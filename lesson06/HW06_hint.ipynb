{
  "nbformat": 4,
  "nbformat_minor": 0,
  "metadata": {
    "colab": {
      "provenance": []
    },
    "kernelspec": {
      "name": "python3",
      "display_name": "Python 3"
    },
    "language_info": {
      "name": "python"
    }
  },
  "cells": [
    {
      "cell_type": "code",
      "source": [
        "import tiktoken\n",
        "\n",
        "# grab some tokenizer\n",
        "encoding = tiktoken.get_encoding(\"o200k_base\")"
      ],
      "metadata": {
        "id": "DrLz9vI_gL4z"
      },
      "execution_count": 1,
      "outputs": []
    },
    {
      "cell_type": "code",
      "source": [
        "text = \"Příliš žluťoučký kůň úpěl ďábelské ódy.\"\n",
        "\n",
        "tokens = encoding.encode(text)\n",
        "print(\"Encoded tokens:\", tokens)"
      ],
      "metadata": {
        "colab": {
          "base_uri": "https://localhost:8080/"
        },
        "id": "ZVW5c_UZgu0T",
        "outputId": "3e068e1b-f8bf-4cf3-e185-62126c78ec60"
      },
      "execution_count": 2,
      "outputs": [
        {
          "output_type": "stream",
          "name": "stdout",
          "text": [
            "Encoded tokens: [47, 21845, 114630, 6872, 5411, 10754, 283, 781, 99136, 372, 8328, 4259, 4789, 79, 47856, 115916, 16886, 1989, 40273, 13364, 7593, 13]\n"
          ]
        }
      ]
    },
    {
      "cell_type": "code",
      "source": [
        "decoded_text = encoding.decode(tokens)\n",
        "print(\"Decoded text:\", decoded_text)"
      ],
      "metadata": {
        "colab": {
          "base_uri": "https://localhost:8080/"
        },
        "id": "3nYoOi6MhmZZ",
        "outputId": "2ba5b3c8-68da-4e53-a123-5e7146cd619c"
      },
      "execution_count": 3,
      "outputs": [
        {
          "output_type": "stream",
          "name": "stdout",
          "text": [
            "Decoded text: Příliš žluťoučký kůň úpěl ďábelské ódy.\n"
          ]
        }
      ]
    },
    {
      "cell_type": "markdown",
      "source": [
        "Do not forget that you have to change default prompt for generation, `\\n` is not encoded as `0` any more."
      ],
      "metadata": {
        "id": "yI1FEYjKiCj6"
      }
    },
    {
      "cell_type": "code",
      "source": [
        "encoding.encode('\\n')"
      ],
      "metadata": {
        "colab": {
          "base_uri": "https://localhost:8080/"
        },
        "id": "2CNvGG1XiSVT",
        "outputId": "24d80082-23ef-4c68-edfc-697c7c3df0ea"
      },
      "execution_count": 4,
      "outputs": [
        {
          "output_type": "execute_result",
          "data": {
            "text/plain": [
              "[198]"
            ]
          },
          "metadata": {},
          "execution_count": 4
        }
      ]
    }
  ]
}